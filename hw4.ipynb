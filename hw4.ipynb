{
 "cells": [
  {
   "cell_type": "code",
   "execution_count": 24,
   "id": "initial_id",
   "metadata": {
    "ExecuteTime": {
     "end_time": "2024-04-18T20:06:36.817740Z",
     "start_time": "2024-04-18T20:06:36.815767Z"
    },
    "collapsed": true,
    "jupyter": {
     "outputs_hidden": true
    }
   },
   "outputs": [],
   "source": [
    "import numpy as np"
   ]
  },
  {
   "cell_type": "markdown",
   "id": "1bf5411e543913f8",
   "metadata": {},
   "source": [
    "## 1.c\n",
    "The policy in (c) won't outperform (a), because without exploration, the policy will be trapped when alpha is estimated a low value.\n",
    "The distribution of reach time will be uniform, since it's time-varying alpha every experiment."
   ]
  },
  {
   "cell_type": "code",
   "execution_count": 25,
   "id": "59476908c4ddaff5",
   "metadata": {
    "ExecuteTime": {
     "end_time": "2024-04-18T20:06:36.826504Z",
     "start_time": "2024-04-18T20:06:36.824006Z"
    }
   },
   "outputs": [],
   "source": [
    "class LoopEnv:\n",
    "    LEFT = 0\n",
    "    RIGHT = 1\n",
    "\n",
    "    def __init__(self, target_s, num_states, alpha=None):\n",
    "        self.alpha = alpha\n",
    "        self.target_s = target_s\n",
    "        self.num_states = num_states\n",
    "\n",
    "    def step(self, s, a):\n",
    "        if self.alpha is None:\n",
    "            # random alpha between 0.5 and 1\n",
    "            alpha = np.random.rand() * 0.5 + 0.5\n",
    "        else:\n",
    "            alpha = self.alpha\n",
    "\n",
    "        success = True\n",
    "        if a == LoopEnv.RIGHT:\n",
    "            s += 1\n",
    "        elif a == LoopEnv.LEFT:\n",
    "            # random move\n",
    "            if np.random.rand() < alpha:\n",
    "                s -= 1\n",
    "            else:\n",
    "                success = False\n",
    "\n",
    "        if s < 0:\n",
    "            s = self.num_states\n",
    "\n",
    "        done = False\n",
    "        if s == self.target_s:\n",
    "            done = True\n",
    "\n",
    "        return s, success, done"
   ]
  },
  {
   "cell_type": "code",
   "execution_count": null,
   "id": "d6d3cea3453ffa82",
   "metadata": {
    "ExecuteTime": {
     "end_time": "2024-04-18T20:19:46.628179Z",
     "start_time": "2024-04-18T20:19:21.387655Z"
    }
   },
   "outputs": [],
   "source": [
    "num_steps = 1000000\n",
    "num_episodes = 100\n",
    "begin_s = 450000\n",
    "target_s = 1000000\n",
    "alpha_hat_t = 1.0\n",
    "\n",
    "env = LoopEnv(target_s=target_s, num_states=target_s)\n",
    "\n",
    "\n",
    "def get_best_action(s, target_s, alpha_hat_t):\n",
    "    if alpha_hat_t == 0:\n",
    "        return LoopEnv.RIGHT\n",
    "    left_distance = s\n",
    "    right_distance = target_s - s\n",
    "    steps_to_left = left_distance / alpha_hat_t\n",
    "    steps_to_right = right_distance\n",
    "    if steps_to_left < steps_to_right:\n",
    "        return LoopEnv.LEFT\n",
    "    else:\n",
    "        return LoopEnv.RIGHT\n",
    "\n",
    "\n",
    "num_steps_success = []\n",
    "action_histories = []\n",
    "\n",
    "for ep in range(num_episodes):\n",
    "    s = begin_s\n",
    "    alpha_hat_t = 1.0\n",
    "    num_step_current_episode = 0\n",
    "    action_history = []\n",
    "    n_left = 0.0\n",
    "    n_left_left = 0.0\n",
    "    for i in range(num_steps):\n",
    "        a = get_best_action(s, target_s, alpha_hat_t)\n",
    "        s, success, done = env.step(s, a)\n",
    "        num_step_current_episode += 1\n",
    "        action_history.append(a)\n",
    "\n",
    "        if a == LoopEnv.LEFT:\n",
    "            n_left += 1.0\n",
    "            if success:\n",
    "                n_left_left += 1.0\n",
    "\n",
    "        if done:\n",
    "            num_steps_success.append(num_step_current_episode)\n",
    "            print(f\"Episode {ep} finished in {num_step_current_episode} steps\")\n",
    "            break\n",
    "\n",
    "        if n_left > 0:\n",
    "            alpha_hat_t = n_left_left / n_left\n",
    "    action_histories.append(action_history[:100])\n"
   ]
  },
  {
   "cell_type": "markdown",
   "id": "1caa3ab4d0efe69b",
   "metadata": {},
   "source": [
    "## 1.d\n",
    "The policy in (d), the performance depends on the first few steps because no exploration is done. But since it's a time-invariant setup this time, it will outperform the robust policy when the alpha is high enough. \n",
    "Based on the experiment, it's likely to finish faster than the robust policy when alpha is highly than roughly 0.86.\n",
    "The distribution of reach time decreases as alpha increases close to 1. but with fluctuations, because the first steps are crucial."
   ]
  },
  {
   "cell_type": "code",
   "execution_count": null,
   "id": "bbf732309ee9b845",
   "metadata": {
    "ExecuteTime": {
     "end_time": "2024-04-18T20:20:08.443164Z",
     "start_time": "2024-04-18T20:19:52.062446Z"
    }
   },
   "outputs": [],
   "source": [
    "action_histories = []\n",
    "# alpha distribution as uniform between 0.5 and 1, a linspace\n",
    "alpha_distribution = np.linspace(0.5, 1, num_episodes)\n",
    "num_steps_success = np.zeros(num_episodes)\n",
    "for ep in range(num_episodes):\n",
    "    env = LoopEnv(target_s=target_s, num_states=target_s, alpha=alpha_distribution[ep])\n",
    "    s = begin_s\n",
    "    alpha_hat_t = 1.0\n",
    "    num_step_current_episode = 0\n",
    "    action_history = []\n",
    "    n_left = 0.0\n",
    "    n_left_left = 0.0\n",
    "    for i in range(num_steps):\n",
    "        a = get_best_action(s, target_s, alpha_hat_t)\n",
    "        s, success, done = env.step(s, a)\n",
    "        num_step_current_episode += 1\n",
    "\n",
    "        if a == LoopEnv.LEFT:\n",
    "            n_left += 1.0\n",
    "            if success:\n",
    "                n_left_left += 1.0\n",
    "\n",
    "        if done:\n",
    "            num_steps_success[ep] = num_step_current_episode\n",
    "            print(f\"Episode {ep} finished in {num_step_current_episode} steps, alpha: {alpha_distribution[ep]}, alpha_hat: {alpha_hat_t}\")\n",
    "            break\n",
    "\n",
    "        if n_left > 0.0:\n",
    "            alpha_hat_t = n_left_left / n_left\n",
    "\n",
    "    action_histories.append(action_history[:100])\n"
   ]
  },
  {
   "cell_type": "code",
   "execution_count": 41,
   "id": "7b6982f2386dd802",
   "metadata": {
    "ExecuteTime": {
     "end_time": "2024-04-18T20:21:46.182425Z",
     "start_time": "2024-04-18T20:21:46.098483Z"
    }
   },
   "outputs": [
    {
     "name": "stdout",
     "output_type": "stream",
     "text": [
      "0.18\n"
     ]
    },
    {
     "data": {
      "image/png": "[encoded data removed]",
      "text/plain": [
       "<Figure size 640x480 with 1 Axes>"
      ]
     },
     "metadata": {},
     "output_type": "display_data"
    }
   ],
   "source": [
    "%matplotlib inline\n",
    "import matplotlib.pyplot as plt\n",
    "\n",
    "# compute how often the num_steps_success is less than 550000\n",
    "print(np.sum(np.array(num_steps_success) < 550000)/num_episodes)\n",
    "\n",
    "plt.figure()\n",
    "\n",
    "plt.plot(alpha_distribution, num_steps_success)\n",
    "\n",
    "plt.show()\n",
    "\n"
   ]
  },
  {
   "cell_type": "markdown",
   "id": "6e5a0ff6ba78e9ef",
   "metadata": {},
   "source": [
    "## 1.e\n",
    "\n",
    "The exploration policy I used, is to define a minimal number of exploration steps must be performed in the beginning of the experiment, but also I compute the change of the estimated alpha, which has to be lower than a threshold, i.e. the estimate of alpha is getting stable.\n",
    "It stably finishes faster than the robust policy when alpha is higher than roughly 0.82.\n",
    "The finish time decrease stably as alpha increases, because of the exploration."
   ]
  },
  {
   "cell_type": "code",
   "execution_count": null,
   "id": "915b385698face5d",
   "metadata": {
    "ExecuteTime": {
     "end_time": "2024-04-18T20:23:15.394803Z",
     "start_time": "2024-04-18T20:22:28.628335Z"
    }
   },
   "outputs": [],
   "source": [
    "delta_alpha_hat = 1\n",
    "num_try_steps = 2000\n",
    "alpha_distribution = np.linspace(0.5, 1, num_episodes)\n",
    "num_steps_success = np.zeros(num_episodes)\n",
    "for ep in range(num_episodes):\n",
    "    env = LoopEnv(target_s=target_s, num_states=target_s, alpha=alpha_distribution[ep])\n",
    "    s = begin_s\n",
    "    alpha_hat_t = 1.0\n",
    "    old_alpha_hat_t = 1\n",
    "    num_step_current_episode = 0\n",
    "    n_left = 0\n",
    "    n_left_left = 0\n",
    "    for i in range(num_steps):\n",
    "        if delta_alpha_hat < 0.02 and i > num_try_steps:\n",
    "            a = get_best_action(s, target_s, alpha_hat_t)\n",
    "        else:\n",
    "            a = get_best_action(s, target_s, 1.0)\n",
    "        s, success, done = env.step(s, a)\n",
    "        num_step_current_episode += 1\n",
    "\n",
    "        if a == LoopEnv.LEFT:\n",
    "            n_left += 1\n",
    "            if success:\n",
    "                n_left_left += 1\n",
    "\n",
    "        if done:\n",
    "            num_steps_success[ep] = num_step_current_episode\n",
    "            print(f\"Episode {ep} finished in {num_step_current_episode} steps\")\n",
    "            break\n",
    "\n",
    "        if n_left > 0:\n",
    "            alpha_hat_t = n_left_left / n_left\n",
    "            if alpha_hat_t < 1:\n",
    "                delta_alpha_hat = np.abs(alpha_hat_t - old_alpha_hat_t)\n",
    "\n",
    "        old_alpha_hat_t = alpha_hat_t\n"
   ]
  },
  {
   "cell_type": "code",
   "execution_count": 44,
   "id": "d1b906867e0d5f5d",
   "metadata": {
    "ExecuteTime": {
     "end_time": "2024-04-18T20:25:11.626677Z",
     "start_time": "2024-04-18T20:25:11.581782Z"
    }
   },
   "outputs": [
    {
     "name": "stdout",
     "output_type": "stream",
     "text": [
      "0.35\n"
     ]
    },
    {
     "data": {
      "image/png": "[encoded data removed]",
      "text/plain": [
       "<Figure size 640x480 with 1 Axes>"
      ]
     },
     "metadata": {},
     "output_type": "display_data"
    }
   ],
   "source": [
    "\n",
    "print(np.sum(np.array(num_steps_success) < 550000)/num_episodes)\n",
    "plt.figure()\n",
    "\n",
    "plt.plot(alpha_distribution, num_steps_success)\n",
    "\n",
    "plt.show()"
   ]
  },
  {
   "cell_type": "markdown",
   "id": "5db71bfc0b7e5353",
   "metadata": {},
   "source": [
    "## 2\n",
    "\n",
    "I use the Q-Learning algorithm to learn the policy, with the following changes:\n",
    "\n",
    "1. the game, I define the cost of each step as the distance to the target, because the agent has to learn online everytime, the time penalty and one-time success reward is not enough to learn the policy, i.e. the game knows where the target is.\n",
    "2. Although the question states the agent doesn't know anything about the dynamics, but I made the assumption the agent at least knows if an action is executed successfully or not. If it's not the case, then the agent just has to learn the outcome of the actions, the problem is still learnable but it will take more time.\n",
    "3. I used an estimation of alpha in the Q-Learning algorithm, same as Question 1, but one alpha for each action. The reward used to update the Q-values is discounted by the estimated alpha.\n",
    "4. For exploration, when any of the estimation of alpha of all actions is not initialized, i.e. not tried that action enough times, the agent will be forced to explore those actions.\n",
    "\n",
    "I believe my method is better, because:\n",
    "1. I force the agent to explore the action space in the beginning of the experiment, compared to passive methods,\n",
    "2. I use the estimated alpha to update the Q-values, which is intuitive to allocate rewards based on the belief of actions,\n",
    "3. Instead of fully random choosing actions during exploration, I force the agent to explore the actions that are not tried enough times, which is more efficient.\n",
    "\n",
    "After 10000 experiment, my method is able to finish the task with around 57.5 steps on average. Based on my comparison, a random exploration policy takes around 75 steps on average, and the vanilla Q-Learning algorithm without considering the uncertainty takes around 110 steps.\n"
   ]
  },
  {
   "cell_type": "code",
   "execution_count": null,
   "id": "4178214af086196f",
   "metadata": {
    "ExecuteTime": {
     "end_time": "2024-04-18T21:06:27.007064Z",
     "start_time": "2024-04-18T21:06:22.202344Z"
    }
   },
   "outputs": [],
   "source": [
    "from mountain_gridworld import MountainGridWorld\n",
    "import numpy as np\n",
    "\n",
    "env = MountainGridWorld(perfect_obs=True, max_num_steps=100000)\n",
    "\n",
    "from models.q_learning.q_learning import learn\n",
    "\n",
    "num_steps = []\n",
    "for i in range(10000):\n",
    "    model = learn(env, scene=\"mountain\", max_it=1, alpha=0.3, epsilon=0.0, epsilon_decay=0.95)\n",
    "    num_steps.append(env.num_steps)\n",
    "\n",
    "num_steps = np.array(num_steps)\n",
    "print(np.mean(num_steps))"
   ]
  }
 ],
 "metadata": {
  "kernelspec": {
   "display_name": "Python 3 (ipykernel)",
   "language": "python",
   "name": "python3"
  },
  "language_info": {
   "codemirror_mode": {
    "name": "ipython",
    "version": 3
   },
   "file_extension": ".py",
   "mimetype": "text/x-python",
   "name": "python",
   "nbconvert_exporter": "python",
   "pygments_lexer": "ipython3",
   "version": "3.12.1"
  }
 },
 "nbformat": 4,
 "nbformat_minor": 5
}
